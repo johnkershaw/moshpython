{
  "nbformat": 4,
  "nbformat_minor": 0,
  "metadata": {
    "colab": {
      "name": "09 files.ipynb",
      "provenance": [],
      "collapsed_sections": [],
      "include_colab_link": true
    },
    "kernelspec": {
      "name": "python3",
      "display_name": "Python 3"
    }
  },
  "cells": [
    {
      "cell_type": "markdown",
      "metadata": {
        "id": "view-in-github",
        "colab_type": "text"
      },
      "source": [
        "<a href=\"https://colab.research.google.com/github/johnkershaw/moshpython/blob/main/teacher.ipynb\" target=\"_parent\"><img src=\"https://colab.research.google.com/assets/colab-badge.svg\" alt=\"Open In Colab\"/></a>"
      ]
    },
    {
      "cell_type": "markdown",
      "metadata": {
        "id": "ToCv4tEfmdWF"
      },
      "source": [
        "# teacher module\n",
        " \n",
        "This module contains the tests and help for students executing their Python code whilst following the Mosh course.\n",
        "\n",
        "Does saving work now?"
      ]
    },
    {
      "cell_type": "code",
      "metadata": {
        "id": "YfMDroqEiQzf",
        "cellView": "both"
      },
      "source": [
        "#@title\n",
        "# DO NOT CHANGE ANYTHING HERE\n",
        "# This code checks your code\n",
        "# meets the task requirements\n",
        "# Click the disclosure triangle\n",
        "# to the left of 09 files to hide\n",
        " \n",
        "import hashlib\n",
        " \n",
        "class Teacher:\n",
        "  '''Has a list of tests that should pass'''\n",
        " \n",
        "  def __init__(self):\n",
        "    self.tasks = {}\n",
        " \n",
        "  def check(self, key, val=''):\n",
        "    task = Task(key=key, val=val)\n",
        "    task.check()\n",
        "    \n",
        "    hashes = {'00a': '6c9d6c9b3b5372f2b1063711e0a6de41', '00b': '4149ce0ee30a909a1f62c583ff20c283'}   \n",
        "    self.tasks[key] = task\n",
        "    \n",
        "    print(task)\n",
        " \n",
        "  def __str__(self):\n",
        "    text = ''\n",
        "    for k,v in self.tasks.items():\n",
        "      text += f'{v}\\n'\n",
        "    return text\n",
        " \n",
        " \n",
        "class Task:\n",
        "  def __init__(self, key, val):\n",
        "    self.key = key\n",
        "    self.val = val\n",
        "    self.expected = ''\n",
        "    self.received = ''\n",
        "    self.result = ''\n",
        " \n",
        "  def check(self):\n",
        "    self.result = 'FAIL'\n",
        "    self.received = ''\n",
        " \n",
        "    if self.key == '09a':\n",
        "      self.expected = 'Hello world'\n",
        " \n",
        "      with open('test.txt', 'r') as f:\n",
        "        self.received = f.readlines()[0].strip() \n",
        "        if self.expected == self.received:\n",
        "          self.result = 'PASS'\n",
        " \n",
        "    if self.key == '09b':\n",
        "      self.expected = 'Automated editing'\n",
        " \n",
        "      with open('test.txt') as f:\n",
        "        self.received = f.readlines()[-1].strip() \n",
        "        if self.expected == self.received:\n",
        "          self.result = 'PASS'\n",
        " \n",
        "    if self.key == '09c':\n",
        "      self.expected = 'Bob|25'\n",
        " \n",
        "      with open('members.txt') as f:\n",
        "        self.received = f.read().strip().split('\\n')[-1]\n",
        "        if self.expected == self.received:\n",
        "          self.result = 'PASS'\n",
        "\n",
        "    if self.key == '09d':\n",
        "      self.expected = '66'\n",
        "\n",
        "      with open('scores.csv') as f:\n",
        "        self.received = f.read().strip().split(',')[2]        \n",
        "        if self.expected == self.received:\n",
        "          self.result = 'PASS'\n",
        "\n",
        "  def __str__(self):\n",
        "    text = ''\n",
        "    text += f'{self.key}: {self.result}\\n'\n",
        "    text += f'Expected: {self.expected}\\n'\n",
        "    text += f'Received: {self.received}\\n'\n",
        "    return text\n",
        " \n",
        " \n",
        " \n",
        "teacher = Teacher()"
      ],
      "execution_count": 1,
      "outputs": []
    },
    {
      "cell_type": "markdown",
      "metadata": {
        "id": "3bsRQG-BE2u3"
      },
      "source": [
        "# 09a files: create\n",
        " \n",
        "## TASK\n",
        " \n",
        "### 1. Create a new text file\n",
        "Run the code below to create a new text file called 'test.txt' by writing a string into the file."
      ]
    },
    {
      "cell_type": "code",
      "metadata": {
        "id": "pDTiL_lHhGPU"
      },
      "source": [
        "filename = 'test.txt'\n",
        "with open(filename, 'w') as f:\n",
        "  f.write('Hello world')"
      ],
      "execution_count": null,
      "outputs": []
    },
    {
      "cell_type": "code",
      "metadata": {
        "id": "Xe_QCHX0hKIu"
      },
      "source": [
        ""
      ],
      "execution_count": null,
      "outputs": []
    },
    {
      "cell_type": "markdown",
      "metadata": {
        "id": "AywD2_39wREr"
      },
      "source": [
        "### 2. Locate the file\n",
        "Click the folder icon at the left of the Colab window, or *Show file browser* on the app.\n",
        " \n",
        "Look for a file called test.txt\n",
        " \n",
        "*You may need to click the 'Refresh' icon to see the file*\n",
        " \n",
        "### 3. Open the file\n",
        "Double-click the file to open in a sidebar viewer at the right of this window.\n",
        " \n",
        " \n",
        "*You can click the 3bars icon at the top of the viewer to move the text file to below this window.*"
      ]
    },
    {
      "cell_type": "code",
      "metadata": {
        "id": "olvohrYChQUE",
        "outputId": "dc96c5a9-7114-401b-a1a3-e6a17ee402cb",
        "colab": {
          "base_uri": "https://localhost:8080/",
          "height": 87
        }
      },
      "source": [
        "teacher.check('09a', _)"
      ],
      "execution_count": null,
      "outputs": [
        {
          "output_type": "stream",
          "text": [
            "09a: PASS\n",
            "Expected: Hello world\n",
            "Received: Hello world\n",
            "\n"
          ],
          "name": "stdout"
        }
      ]
    },
    {
      "cell_type": "markdown",
      "metadata": {
        "id": "avuRp3kje7vG"
      },
      "source": [
        "### Cheatsheet\n",
        "\n",
        "![09a files.png](data:image/png;base64,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)"
      ]
    },
    {
      "cell_type": "markdown",
      "metadata": {
        "id": "Y25XIC034vY5"
      },
      "source": [
        "You *can* read a whole file at once with .read() but this can be problematic with large files. Instead, use `.readlines()` to read the lines into a list, then loop over the list.\n",
        " \n",
        "Note that .readlines() does NOT strip the newline characters `\\n` from the ends of lines, so use `line.rstrip()`"
      ]
    },
    {
      "cell_type": "markdown",
      "metadata": {
        "id": "xTzntatbAqhA"
      },
      "source": [
        "# 09b files: append\n",
        " \n",
        "## TASK\n",
        "1. Use the template in the cheatsheet to APPEND this single line of text to the text file. Be sure to add a newline character before the text.\n",
        " \n",
        "`Automated editing`\n",
        " \n",
        "*Make sure there's no blank lines AFTER this line, as the checker will look only at the LAST line.*"
      ]
    },
    {
      "cell_type": "code",
      "metadata": {
        "id": "CAih_RuoB48B"
      },
      "source": [
        "# ??? Add your append code here"
      ],
      "execution_count": null,
      "outputs": []
    },
    {
      "cell_type": "code",
      "metadata": {
        "id": "FptJNiogiCsB",
        "outputId": "9d5194b1-2466-4356-b59f-892ddeff21f3",
        "colab": {
          "base_uri": "https://localhost:8080/",
          "height": 87
        }
      },
      "source": [
        "teacher.check('09b', _)"
      ],
      "execution_count": null,
      "outputs": [
        {
          "output_type": "stream",
          "text": [
            "09b: FAIL\n",
            "Expected: Automated editing\n",
            "Received: Hello world\n",
            "\n"
          ],
          "name": "stdout"
        }
      ]
    },
    {
      "cell_type": "markdown",
      "metadata": {
        "id": "rD_VEULC68xT"
      },
      "source": [
        "# 09c files: storeload\n",
        " \n",
        "## TASK\n",
        "1. ADD a form that asks the user for their name (input) and age (slider 1-100)\n",
        "\n",
        "2. JOIN the name and age with a pipe character '|' and store in a variable `name_age` \n",
        "\n",
        "3. APPEND the name_age string to a text file: 'members.txt'. **Be sure to add a newline character '\\n' BEFORE the name_age string.**\n",
        "\n",
        "4. CHECKER: The last line of the file should be 'Bob', aged 25\n",
        "  \n",
        "*Make sure there's no blank lines AFTER this line, as the checker will look only at the LAST line.*"
      ]
    },
    {
      "cell_type": "code",
      "metadata": {
        "id": "qvke531W68xp",
        "cellView": "both"
      },
      "source": [
        "#@title Name Age Database\n",
        "name = \"BTimob\" #@param {type:\"string\"}\n",
        "age = 14 #@param {type:\"slider\", min:1, max:100, step:1}\n",
        "name_age = f'\\n{name}|{age}'\n",
        "with open('members.txt', 'a') as f:\n",
        "  f.write(name_age)"
      ],
      "execution_count": null,
      "outputs": []
    },
    {
      "cell_type": "code",
      "metadata": {
        "id": "_oTPmf1A68yF",
        "outputId": "e4e7a961-cba9-46f7-af22-efa733272a1f",
        "colab": {
          "base_uri": "https://localhost:8080/",
          "height": 87
        }
      },
      "source": [
        "teacher.check('09c', _)"
      ],
      "execution_count": null,
      "outputs": [
        {
          "output_type": "stream",
          "text": [
            "09c: PASS\n",
            "Expected: Bob|25\n",
            "Received: Bob|25\n",
            "\n"
          ],
          "name": "stdout"
        }
      ]
    },
    {
      "cell_type": "markdown",
      "metadata": {
        "id": "icVttbI-r239"
      },
      "source": [
        "# 09d files: read\n",
        " \n",
        "## TASK\n",
        "Normally any values entered by the user are lost when the program is closed. Storing data into files means information can be saved then loaded back into the program later. \n",
        " \n",
        " \n",
        "## 1. Create helper  functions\n",
        " \n",
        "`write_ints(filename, ints_list)` should convert the list of integers into strings, .join them with commas, and write the result into the file\n",
        " \n",
        " \n",
        "`read_ints(filename)` should read in the string of values from the file, split it at the commas and  return it as a list of integers\n",
        " \n",
        "## 2. Load the data\n",
        "Use `read-ints` to load the scores data\n",
        " \n",
        "## 3. Update one score\n",
        "Change the third score in the list from 65 to 66\n",
        " \n",
        "## 4. Store the data \n",
        "Write the scores back to the file using `write-ints`"
      ]
    },
    {
      "cell_type": "code",
      "metadata": {
        "id": "McsS8Msb3ewo"
      },
      "source": [
        "# set up scores.csv - do not edit!\n",
        "def setup_09d():\n",
        "    with open('scores.csv', 'w') as f:\n",
        "        f.write('77,81,65,92')\n",
        "\n",
        "setup_09d()"
      ],
      "execution_count": null,
      "outputs": []
    },
    {
      "cell_type": "code",
      "metadata": {
        "id": "-b95_QkYwlYG"
      },
      "source": [
        "def write_ints(filename, values):\n",
        "    # your code here\n",
        "    pass\n",
        " \n",
        "def read_ints(filename):\n",
        "    # your code here\n",
        "    pass\n",
        " \n",
        "setup_09d()  # reset scores.csv\n",
        " \n",
        "# comma separated values is a common data exchange format\n",
        "filename = 'scores.csv'  \n",
        "scores = read_ints(filename)\n",
        " \n",
        "# change 65 to 66\n",
        "# ???\n",
        "\n",
        "# write updated list back to file\n",
        "write_ints(filename, scores)"
      ],
      "execution_count": null,
      "outputs": []
    },
    {
      "cell_type": "code",
      "metadata": {
        "id": "x--AxGJdtQ6L",
        "outputId": "7476dc8a-fb0c-4bea-fdf5-eeb59529ec70",
        "colab": {
          "base_uri": "https://localhost:8080/",
          "height": 87
        }
      },
      "source": [
        "teacher.check('09d', _)"
      ],
      "execution_count": null,
      "outputs": [
        {
          "output_type": "stream",
          "text": [
            "09d: FAIL\n",
            "Expected: 66\n",
            "Received: 65\n",
            "\n"
          ],
          "name": "stdout"
        }
      ]
    },
    {
      "cell_type": "markdown",
      "metadata": {
        "id": "4n-tby9OAFct"
      },
      "source": [
        "# 09d model solution\n",
        " \n",
        "SPOILERS: you should ONLY look at this AFTER you've completed yours. Can you pick up any new techniques? :)"
      ]
    },
    {
      "cell_type": "code",
      "metadata": {
        "id": "5Ra54E_wqxiS",
        "outputId": "698fad7f-8d29-441c-f44b-ab3310e20c0d",
        "colab": {
          "base_uri": "https://localhost:8080/",
          "height": 34
        }
      },
      "source": [
        "def write_ints(filename, ints):\n",
        "    text = ','.join(f'{s}' for s in ints)\n",
        "    with open(filename, \"w\") as f:\n",
        "        f.write(text)\n",
        " \n",
        "def read_ints(filename):\n",
        "    with open(filename, \"r\") as f:\n",
        "        ints = f.read().strip().split(',')\n",
        "    return ints\n",
        " \n",
        "setup_09d()\n",
        "filename = 'scores.csv'\n",
        "my_scores = read_ints(filename)\n",
        "my_scores[2] = 66\n",
        "print(my_scores)\n",
        "write_ints(filename, my_scores)"
      ],
      "execution_count": null,
      "outputs": [
        {
          "output_type": "stream",
          "text": [
            "['77', '81', 66, '92']\n"
          ],
          "name": "stdout"
        }
      ]
    },
    {
      "cell_type": "code",
      "metadata": {
        "id": "HodJ3wpir3FT",
        "outputId": "6c282e2f-6239-453e-90a9-b203c4ca9e4b",
        "colab": {
          "base_uri": "https://localhost:8080/",
          "height": 314
        }
      },
      "source": [
        "# 09 SUMMARY\n",
        "# Runtime > Run All\n",
        " \n",
        "print(teacher)"
      ],
      "execution_count": null,
      "outputs": [
        {
          "output_type": "stream",
          "text": [
            "09a: PASS\n",
            "Expected: Hello world\n",
            "Received: Hello world\n",
            "\n",
            "09b: FAIL\n",
            "Expected: Automated editing\n",
            "Received: Hello world\n",
            "\n",
            "09c: PASS\n",
            "Expected: Bob|25\n",
            "Received: Bob|25\n",
            "\n",
            "09d: FAIL\n",
            "Expected: 66\n",
            "Received: 65\n",
            "\n",
            "\n"
          ],
          "name": "stdout"
        }
      ]
    }
  ]
}